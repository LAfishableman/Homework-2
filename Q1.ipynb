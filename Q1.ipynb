{
 "cells": [
  {
   "cell_type": "code",
   "execution_count": 1,
   "id": "521759d2-a12e-47b9-93ba-b34307c0f332",
   "metadata": {},
   "outputs": [],
   "source": [
    "import pandas as pd\n",
    "import numpy as np\n",
    "import matplotlib.pyplot as plt\n",
    "import seaborn as sns\n",
    "\n",
    "from sklearn.tree import DecisionTreeClassifier\n",
    "from sklearn.metrics import recall_score, precision_score, f1_score, classification_report\n",
    "from sklearn.model_selection import train_test_split\n",
    "from sklearn.datasets import load_iris\n"
   ]
  },
  {
   "cell_type": "code",
   "execution_count": 2,
   "id": "f7a42e3f-28bb-4907-b328-af722a28e853",
   "metadata": {},
   "outputs": [
    {
     "name": "stdout",
     "output_type": "stream",
     "text": [
      "   max_depth  precision_micro  recall_micro  f1_score_micro  precision_macro  \\\n",
      "0          1         0.605263      0.605263        0.605263         0.481481   \n",
      "1          2         0.973684      0.973684        0.973684         0.979167   \n",
      "2          3         0.973684      0.973684        0.973684         0.979167   \n",
      "3          4         0.947368      0.947368        0.947368         0.960784   \n",
      "4          5         0.947368      0.947368        0.947368         0.960784   \n",
      "\n",
      "   recall_macro  f1_score_macro  precision_weighted  recall_weighted  \\\n",
      "0      0.666667        0.538462            0.429825         0.605263   \n",
      "1      0.972222        0.974755            0.975329         0.973684   \n",
      "2      0.972222        0.974755            0.975329         0.973684   \n",
      "3      0.944444        0.948864            0.953560         0.947368   \n",
      "4      0.944444        0.948864            0.953560         0.947368   \n",
      "\n",
      "   f1_score_weighted  \n",
      "0           0.483806  \n",
      "1           0.973537  \n",
      "2           0.973537  \n",
      "3           0.946621  \n",
      "4           0.946621  \n"
     ]
    }
   ],
   "source": [
    "iris=load_iris()\n",
    "data=iris.data\n",
    "label=iris.target\n",
    "df=pd.DataFrame(data=data, columns=iris.feature_names)\n",
    "\n",
    "X = df\n",
    "y = label\n",
    "\n",
    "X_train, X_test, y_train, y_test = train_test_split(X, y, random_state=10)\n",
    "\n",
    "averages=['micro','macro','weighted']\n",
    "\n",
    "results = {\n",
    "    'max_depth': [],\n",
    "    'precision_micro': [],\n",
    "    'recall_micro': [],\n",
    "    'f1_score_micro': [],\n",
    "    'precision_macro': [],\n",
    "    'recall_macro': [],\n",
    "    'f1_score_macro': [],\n",
    "    'precision_weighted': [],\n",
    "    'recall_weighted': [],\n",
    "    'f1_score_weighted': []\n",
    "}\n",
    "\n",
    "for i in range(1,6):\n",
    "    model = DecisionTreeClassifier(min_samples_leaf=2,min_samples_split=5,max_depth=i).fit(X_train,y_train)\n",
    "    y_pred=model.predict(X_test)\n",
    "    for average in averages:\n",
    "        precision = precision_score(y_test, y_pred,average=average,zero_division=0)\n",
    "        recall = recall_score(y_test, y_pred,average=average)\n",
    "        F1_score = f1_score(y_test, y_pred, average=average)\n",
    "\n",
    "        results[f'precision_{average}'].append(precision)\n",
    "        results[f'recall_{average}'].append(recall)\n",
    "        results[f'f1_score_{average}'].append(F1_score)\n",
    "\n",
    "        \n",
    "    \n",
    "    results['max_depth'].append(i)\n",
    "\n",
    "results_df = pd.DataFrame(results)\n",
    "print(results_df)\n"
   ]
  },
  {
   "cell_type": "code",
   "execution_count": null,
   "id": "5d1c910d-d621-4e2f-b62c-e0975afd8b00",
   "metadata": {},
   "outputs": [],
   "source": []
  }
 ],
 "metadata": {
  "kernelspec": {
   "display_name": "Python 3 (ipykernel)",
   "language": "python",
   "name": "python3"
  },
  "language_info": {
   "codemirror_mode": {
    "name": "ipython",
    "version": 3
   },
   "file_extension": ".py",
   "mimetype": "text/x-python",
   "name": "python",
   "nbconvert_exporter": "python",
   "pygments_lexer": "ipython3",
   "version": "3.11.7"
  }
 },
 "nbformat": 4,
 "nbformat_minor": 5
}
