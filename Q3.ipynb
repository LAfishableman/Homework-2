{
 "cells": [
  {
   "cell_type": "code",
   "execution_count": 1,
   "id": "9af14411-a6d6-497f-9ce1-607e6e175fae",
   "metadata": {},
   "outputs": [],
   "source": [
    "import pandas as pd\n",
    "import numpy as np\n",
    "import matplotlib.pyplot as plt\n",
    "import seaborn as sns\n",
    "\n",
    "from sklearn.tree import DecisionTreeClassifier,export_text, plot_tree\n",
    "from sklearn.model_selection import train_test_split\n",
    "from sklearn.decomposition import PCA\n",
    "from sklearn.preprocessing import StandardScaler, LabelEncoder\n",
    "from sklearn.metrics import recall_score, precision_score, f1_score, classification_report,confusion_matrix\n",
    "\n",
    "from ucimlrepo import fetch_ucirepo"
   ]
  },
  {
   "cell_type": "code",
   "execution_count": 2,
   "id": "005b4bc9-5cbc-4d60-83aa-a425acc4c347",
   "metadata": {},
   "outputs": [],
   "source": [
    "bcw = fetch_ucirepo(id=17)"
   ]
  },
  {
   "cell_type": "code",
   "execution_count": 3,
   "id": "c334f01e-f022-4c88-985a-856fae6be911",
   "metadata": {},
   "outputs": [
    {
     "name": "stdout",
     "output_type": "stream",
     "text": [
      "    Diagnosis\n",
      "0           M\n",
      "1           M\n",
      "2           M\n",
      "3           M\n",
      "4           M\n",
      "..        ...\n",
      "564         M\n",
      "565         M\n",
      "566         M\n",
      "567         M\n",
      "568         B\n",
      "\n",
      "[569 rows x 1 columns]\n"
     ]
    }
   ],
   "source": [
    "bcw_X = bcw.data.features\n",
    "bcw_y = bcw.data.targets\n",
    "print(bcw_y)"
   ]
  },
  {
   "cell_type": "code",
   "execution_count": 4,
   "id": "7c3f0e08-e32f-4431-8244-e3e5804de06e",
   "metadata": {},
   "outputs": [],
   "source": [
    "X=bcw_X.iloc[:, 2:].values\n",
    "y=bcw_y.iloc[:, 0].values"
   ]
  },
  {
   "cell_type": "code",
   "execution_count": 5,
   "id": "54d969a9-6c69-4e67-9cc9-5c526a707d12",
   "metadata": {},
   "outputs": [],
   "source": [
    "le = LabelEncoder()\n",
    "y = le.fit_transform(y)"
   ]
  },
  {
   "cell_type": "code",
   "execution_count": 6,
   "id": "408120bb-b171-4adc-99d2-f9e97fd8f817",
   "metadata": {},
   "outputs": [],
   "source": [
    "scaler = StandardScaler()\n",
    "X_scaled = scaler.fit_transform(X)"
   ]
  },
  {
   "cell_type": "code",
   "execution_count": 7,
   "id": "bfcebb31-3a2a-4907-a347-f0645304e75b",
   "metadata": {},
   "outputs": [],
   "source": [
    "pca = PCA(n_components=2)\n",
    "principal_components = pca.fit_transform(X_scaled)\n",
    "\n",
    "X_pca1 = principal_components[:, 0].reshape(-1, 1)\n",
    "\n",
    "X_pca2 = principal_components[:, :2]\n",
    "\n",
    "X_original = X_scaled"
   ]
  },
  {
   "cell_type": "code",
   "execution_count": 8,
   "id": "71f99149-0e40-4349-bf26-00d68b509f75",
   "metadata": {},
   "outputs": [],
   "source": [
    "X_train_original, X_test_original, y_train_original, y_test_original = train_test_split(\n",
    "    X_original, y, test_size=0.2, random_state=42\n",
    ")\n",
    "\n",
    "# 第一主成分\n",
    "X_train_pca1, X_test_pca1, y_train_pca1, y_test_pca1 = train_test_split(\n",
    "    X_pca1, y, test_size=0.2, random_state=42\n",
    ")\n",
    "\n",
    "# 第一和第二主成分\n",
    "X_train_pca2, X_test_pca2, y_train_pca2, y_test_pca2 = train_test_split(\n",
    "    X_pca2, y, test_size=0.2, random_state=42\n",
    ")"
   ]
  },
  {
   "cell_type": "code",
   "execution_count": 9,
   "id": "686d831d-082a-44ec-802c-b589f695ebd7",
   "metadata": {},
   "outputs": [],
   "source": [
    "data = {\n",
    "    'Data Component': [],\n",
    "    'F1 Score': [],\n",
    "    'Precision': [],\n",
    "    'Recall': [],\n",
    "    'False Positives (FP)': [],\n",
    "    'True Positives (TP)': [],\n",
    "    'False Positive Rate (FPR)': [],\n",
    "    'True Positive Rate (TPR)': []\n",
    "}\n"
   ]
  },
  {
   "cell_type": "markdown",
   "id": "c2d20d89-9d7b-437f-8ee8-cd93959f2d36",
   "metadata": {},
   "source": [
    "**original data**"
   ]
  },
  {
   "cell_type": "code",
   "execution_count": 10,
   "id": "e0d809c8-5c7a-49d6-8412-417e0c8882e5",
   "metadata": {},
   "outputs": [],
   "source": [
    "clf_original = DecisionTreeClassifier(min_samples_leaf=2,min_samples_split=5,max_depth=2,criterion='gini',random_state=42)\n",
    "clf_original.fit(X_train_original, y_train_original)\n",
    "\n",
    "y_pred_original = clf_original.predict(X_test_original)\n",
    "\n",
    "f1_original = f1_score(y_test_original, y_pred_original)\n",
    "precision_original = precision_score(y_test_original, y_pred_original)\n",
    "recall_original = recall_score(y_test_original, y_pred_original)\n",
    "\n",
    "cm_original = confusion_matrix(y_test_original, y_pred_original)\n",
    "tn_original, fp_original, fn_original, tp_original = cm_original.ravel()\n",
    "fpr_original = fp_original / (fp_original + tn_original)\n",
    "tpr_original = tp_original / (tp_original + fn_original)\n",
    "\n",
    "data['Data Component'].append('Original Data')\n",
    "data['F1 Score'].append(f1_original)\n",
    "data['Precision'].append(precision_original)\n",
    "data['Recall'].append(recall_original)\n",
    "data['False Positives (FP)'].append(fp_original)\n",
    "data['True Positives (TP)'].append(tp_original)\n",
    "data['False Positive Rate (FPR)'].append(fpr_original)\n",
    "data['True Positive Rate (TPR)'].append(tpr_original)"
   ]
  },
  {
   "cell_type": "markdown",
   "id": "c22f0773-c247-4c75-ade4-a4fb765f940d",
   "metadata": {},
   "source": [
    "**Using only the first principal component of the data**"
   ]
  },
  {
   "cell_type": "code",
   "execution_count": 11,
   "id": "63e3490f-b683-4ca4-b123-a672172c300d",
   "metadata": {},
   "outputs": [],
   "source": [
    "clf_pca1 = DecisionTreeClassifier(min_samples_leaf=2,min_samples_split=5,max_depth=2,criterion='gini',random_state=42)\n",
    "clf_pca1.fit(X_train_pca1, y_train_pca1)\n",
    "\n",
    "y_pred_pca1 = clf_pca1.predict(X_test_pca1)\n",
    "\n",
    "f1_pca1 = f1_score(y_test_pca1, y_pred_pca1)\n",
    "precision_pca1 = precision_score(y_test_pca1, y_pred_pca1)\n",
    "recall_pca1 = recall_score(y_test_pca1, y_pred_pca1)\n",
    "\n",
    "cm_pca1 = confusion_matrix(y_test_pca1, y_pred_pca1)\n",
    "tn_pca1, fp_pca1, fn_pca1, tp_pca1 = cm_pca1.ravel()\n",
    "fpr_pca1 = fp_pca1 / (fp_pca1 + tn_pca1)\n",
    "tpr_pca1 = tp_pca1 / (tp_pca1 + fn_pca1)\n",
    "\n",
    "data['Data Component'].append('First Principal Component')\n",
    "data['F1 Score'].append(f1_pca1)\n",
    "data['Precision'].append(precision_pca1)\n",
    "data['Recall'].append(recall_pca1)\n",
    "data['False Positives (FP)'].append(fp_pca1)\n",
    "data['True Positives (TP)'].append(tp_pca1)\n",
    "data['False Positive Rate (FPR)'].append(fpr_pca1)\n",
    "data['True Positive Rate (TPR)'].append(tpr_pca1)"
   ]
  },
  {
   "cell_type": "markdown",
   "id": "86e0b6e4-a9ae-4db9-8b09-b36aaa7460b6",
   "metadata": {},
   "source": [
    "**Using the first and second principal components**"
   ]
  },
  {
   "cell_type": "code",
   "execution_count": 12,
   "id": "c1d72e4f-d4f7-44f9-8a4c-47a208731225",
   "metadata": {},
   "outputs": [],
   "source": [
    "clf_pca2 = DecisionTreeClassifier(min_samples_leaf=2,min_samples_split=5,max_depth=2,criterion='gini',random_state=42)\n",
    "clf_pca2.fit(X_train_pca2, y_train_pca2)\n",
    "\n",
    "y_pred_pca2 = clf_pca2.predict(X_test_pca2)\n",
    "\n",
    "f1_pca2 = f1_score(y_test_pca2, y_pred_pca2)\n",
    "precision_pca2 = precision_score(y_test_pca2, y_pred_pca2)\n",
    "recall_pca2 = recall_score(y_test_pca2, y_pred_pca2)\n",
    "\n",
    "tn_pca2, fp_pca2, fn_pca2, tp_pca2 = confusion_matrix(y_test_pca2, y_pred_pca2).ravel()\n",
    "\n",
    "fpr_pca2 = fp_pca2 / (fp_pca2 + tn_pca2)\n",
    "tpr_pca2 = tp_pca2 / (tp_pca2 + fn_pca2)\n",
    "\n",
    "data['Data Component'].append('First and Second Principal Components')\n",
    "data['F1 Score'].append(f1_pca2)\n",
    "data['Precision'].append(precision_pca2)\n",
    "data['Recall'].append(recall_pca2)\n",
    "data['False Positives (FP)'].append(fp_pca2)\n",
    "data['True Positives (TP)'].append(tp_pca2)\n",
    "data['False Positive Rate (FPR)'].append(fpr_pca2)\n",
    "data['True Positive Rate (TPR)'].append(tpr_pca2)"
   ]
  },
  {
   "cell_type": "code",
   "execution_count": 13,
   "id": "990f69ff-60a9-411e-b3ed-b36c012c0740",
   "metadata": {},
   "outputs": [
    {
     "name": "stdout",
     "output_type": "stream",
     "text": [
      "                          Data Component  F1 Score  Precision    Recall  \\\n",
      "0                          Original Data  0.902439   0.948718  0.860465   \n",
      "1              First Principal Component  0.930233   0.930233  0.930233   \n",
      "2  First and Second Principal Components  0.891566   0.925000  0.860465   \n",
      "\n",
      "   False Positives (FP)  True Positives (TP)  False Positive Rate (FPR)  \\\n",
      "0                     2                   37                   0.028169   \n",
      "1                     3                   40                   0.042254   \n",
      "2                     3                   37                   0.042254   \n",
      "\n",
      "   True Positive Rate (TPR)  \n",
      "0                  0.860465  \n",
      "1                  0.930233  \n",
      "2                  0.860465  \n"
     ]
    }
   ],
   "source": [
    "data_df = pd.DataFrame(data)\n",
    "print(data_df)"
   ]
  },
  {
   "cell_type": "code",
   "execution_count": null,
   "id": "d8d7c952-a941-4e22-81c5-8c52e052c971",
   "metadata": {},
   "outputs": [],
   "source": []
  }
 ],
 "metadata": {
  "kernelspec": {
   "display_name": "Python 3 (ipykernel)",
   "language": "python",
   "name": "python3"
  },
  "language_info": {
   "codemirror_mode": {
    "name": "ipython",
    "version": 3
   },
   "file_extension": ".py",
   "mimetype": "text/x-python",
   "name": "python",
   "nbconvert_exporter": "python",
   "pygments_lexer": "ipython3",
   "version": "3.11.7"
  }
 },
 "nbformat": 4,
 "nbformat_minor": 5
}
